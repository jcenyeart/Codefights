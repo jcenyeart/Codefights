{
 "cells": [
  {
   "cell_type": "markdown",
   "metadata": {},
   "source": [
    "# Codefights Arcade Intro Exercises:"
   ]
  },
  {
   "cell_type": "code",
   "execution_count": null,
   "metadata": {
    "collapsed": true
   },
   "outputs": [],
   "source": [
    "#1:\n",
    "def add(param1, param2):\n",
    "    return param1+param2"
   ]
  },
  {
   "cell_type": "code",
   "execution_count": null,
   "metadata": {
    "collapsed": true
   },
   "outputs": [],
   "source": [
    "#2:\n",
    "def centuryFromYear(year):\n",
    "    if year%100 == 0:\n",
    "        return year%100\n",
    "    else:\n",
    "        return year/100+1"
   ]
  },
  {
   "cell_type": "code",
   "execution_count": null,
   "metadata": {
    "collapsed": true
   },
   "outputs": [],
   "source": [
    "#3:\n",
    "def checkPalindrome(inputString):\n",
    "    return inputString == inputString[::-1]"
   ]
  },
  {
   "cell_type": "code",
   "execution_count": null,
   "metadata": {
    "collapsed": true
   },
   "outputs": [],
   "source": [
    "#4:\n",
    "def adjacentElementsProduct(inputArray):\n",
    "    max = inputArray[0]*inputArray[1]\n",
    "    for i in xrange(len(inputArray)-1):\n",
    "        if inputArray[i]*inputArray[i+1] > max:\n",
    "            max = inputArray[i]*inputArray[i+1]\n",
    "    return max"
   ]
  },
  {
   "cell_type": "code",
   "execution_count": null,
   "metadata": {
    "collapsed": true
   },
   "outputs": [],
   "source": [
    "#5:\n",
    "def shapeArea(n):\n",
    "    return n**2 + (n-1)**2"
   ]
  },
  {
   "cell_type": "code",
   "execution_count": null,
   "metadata": {
    "collapsed": true
   },
   "outputs": [],
   "source": [
    "#6:\n",
    "def makeArrayConsecutive2(statues):\n",
    "    return max(statues)-min(statues)+1-len(statues)"
   ]
  },
  {
   "cell_type": "code",
   "execution_count": null,
   "metadata": {
    "collapsed": true
   },
   "outputs": [],
   "source": [
    "#7:\n",
    "def almostIncreasingSequence(sequence):\n",
    "    if all([sequence[i+1]-sequence[i]>0 for i in xrange(len(sequence)-1)]):\n",
    "        return True\n",
    "    else:\n",
    "        for i in xrange(len(sequence)-1):\n",
    "            if sequence[i+1] <= sequence[i]:\n",
    "                a = sequence[:i]+ sequence[i+1:]\n",
    "                b = sequence[:i+1]+sequence[i+2:]\n",
    "                if all([a[i+1]-a[i]>0 for i in xrange(len(a)-1)]) or all([b[i+1]-b[i]>0 for i in xrange(len(b)-1)]):\n",
    "                    return True\n",
    "                else:\n",
    "                    return False\n",
    "                return all([sequence[i+1]-sequence[i]>0 for i in xrange(len(sequence)-1)])"
   ]
  },
  {
   "cell_type": "code",
   "execution_count": null,
   "metadata": {
    "collapsed": true
   },
   "outputs": [],
   "source": [
    "#8:\n",
    "def matrixElementsSum(matrix):\n",
    "    sum = 0\n",
    "    rows = len(matrix)\n",
    "    columns = len(matrix[0])\n",
    "    for j in xrange(columns):\n",
    "        for i in xrange(rows):\n",
    "            if matrix[i][j] == 0:\n",
    "                break\n",
    "            else:\n",
    "                sum += matrix[i][j]\n",
    "    return sum\n"
   ]
  },
  {
   "cell_type": "code",
   "execution_count": null,
   "metadata": {
    "collapsed": true
   },
   "outputs": [],
   "source": [
    "#9:\n",
    "def allLongestStrings(inputArray):\n",
    "    L = map(len,inputArray)\n",
    "    M = max(L)\n",
    "    return [s for s in inputArray if len(s) == M]"
   ]
  },
  {
   "cell_type": "code",
   "execution_count": null,
   "metadata": {
    "collapsed": true
   },
   "outputs": [],
   "source": [
    "#10:\n",
    "def commonCharacterCount(s1, s2):\n",
    "    sum = 0\n",
    "    d = {}\n",
    "    for ele in set(s1):\n",
    "        sum += min(s1.count(ele),s2.count(ele))\n",
    "    return sum"
   ]
  },
  {
   "cell_type": "code",
   "execution_count": null,
   "metadata": {
    "collapsed": true
   },
   "outputs": [],
   "source": [
    "#11:\n",
    "def isLucky(n):\n",
    "    s = str(n)\n",
    "    mid = len(str(n))/2-1\n",
    "    return (sum(map(int, list(s[:mid+1]))) == sum(map(int, list(s[mid+1:]))))"
   ]
  },
  {
   "cell_type": "code",
   "execution_count": null,
   "metadata": {
    "collapsed": true
   },
   "outputs": [],
   "source": [
    "#12:\n",
    "def sortByHeight(a):\n",
    "    l = []\n",
    "    b = [-1]*a.count(-1)\n",
    "    c = sorted([ele for ele in a if ele != -1])\n",
    "    for ele in a:\n",
    "        if ele == -1:\n",
    "            l.append(b.pop(0))\n",
    "        else:\n",
    "            l.append(c.pop(0))\n",
    "    return l"
   ]
  },
  {
   "cell_type": "code",
   "execution_count": null,
   "metadata": {
    "collapsed": true
   },
   "outputs": [],
   "source": [
    "#13:\n",
    "def reverseParentheses(s):\n",
    "    if s.count('(') == 0:\n",
    "        return s\n",
    "    a = -1\n",
    "    b = -1\n",
    "    i = 0\n",
    "    while b == -1:\n",
    "        if s[i] == ')':\n",
    "            b = i\n",
    "            break\n",
    "        i += 1\n",
    "    while a == -1:\n",
    "        if s[i] == '(':\n",
    "            a = i\n",
    "        i -= 1\n",
    "    return reverseParentheses(s[:a]+s[a+1:b][::-1]+s[b+1:])"
   ]
  },
  {
   "cell_type": "code",
   "execution_count": null,
   "metadata": {
    "collapsed": true
   },
   "outputs": [],
   "source": [
    "#14:\n",
    "def alternatingSums(a):\n",
    "    team1 = sum(a[i] for i in xrange(len(a)) if i%2 == 0)\n",
    "    team2 = sum(a)-team1\n",
    "    return [team1,team2]"
   ]
  },
  {
   "cell_type": "code",
   "execution_count": null,
   "metadata": {
    "collapsed": true
   },
   "outputs": [],
   "source": [
    "#15:\n",
    "def addBorder(picture):\n",
    "    a = picture\n",
    "    b = []\n",
    "    b.append(\"*\"*(len(picture[0])+2))\n",
    "    for ele in a:\n",
    "        b.append('*'+ele+'*')\n",
    "    b.append(\"*\"*(len(picture[0])+2))\n",
    "    return b"
   ]
  },
  {
   "cell_type": "code",
   "execution_count": null,
   "metadata": {
    "collapsed": true
   },
   "outputs": [],
   "source": [
    "#16:\n",
    "def areSimilar(a, b):\n",
    "    if sorted(a) != sorted(b):\n",
    "        return False\n",
    "    return sum([(a[i]-b[i]) != 0 for i in xrange(len(a))]) <= 2"
   ]
  },
  {
   "cell_type": "code",
   "execution_count": null,
   "metadata": {
    "collapsed": true
   },
   "outputs": [],
   "source": [
    "#17:\n",
    "def arrayChange(inputArray):\n",
    "    c = 0\n",
    "    l = []\n",
    "    l.append(inputArray[0])\n",
    "    for i in xrange(1,len(inputArray)):\n",
    "        if l[-1] < inputArray[i]:\n",
    "            l.append(inputArray[i])\n",
    "            continue\n",
    "        else:\n",
    "            c += l[-1]-inputArray[i]+1\n",
    "            l.append(l[-1]+1)\n",
    "    return c"
   ]
  },
  {
   "cell_type": "code",
   "execution_count": null,
   "metadata": {
    "collapsed": true
   },
   "outputs": [],
   "source": [
    "#18:\n",
    "def palindromeRearranging(inputString):\n",
    "    if len(inputString) %2 == 0:\n",
    "        return sum(inputString.count(a)%2 != 0 for a in set(inputString)) == 0\n",
    "    else:\n",
    "        return sum(inputString.count(a)%2 != 0 for a in set(inputString)) <= 1"
   ]
  },
  {
   "cell_type": "code",
   "execution_count": null,
   "metadata": {
    "collapsed": true
   },
   "outputs": [],
   "source": [
    "#19:\n",
    "def areEquallyStrong(yourLeft, yourRight, friendsLeft, friendsRight):\n",
    "    you = [yourLeft,yourRight]\n",
    "    friend = [friendsLeft,friendsRight]\n",
    "    return sorted(you) == sorted(friend)"
   ]
  },
  {
   "cell_type": "code",
   "execution_count": null,
   "metadata": {
    "collapsed": true
   },
   "outputs": [],
   "source": [
    "#20:\n",
    "def arrayMaximalAdjacentDifference(inputArray):\n",
    "    m = 0\n",
    "    for i in xrange(len(inputArray)-1):\n",
    "        if abs(inputArray[i]-inputArray[i+1]) > m:\n",
    "            m = abs(inputArray[i]-inputArray[i+1])\n",
    "    return m"
   ]
  },
  {
   "cell_type": "code",
   "execution_count": null,
   "metadata": {
    "collapsed": true
   },
   "outputs": [],
   "source": [
    "#21:\n",
    "def isIPv4Address(inputString):\n",
    "    if all(a.isdigit() for a in inputString.split('.')):\n",
    "        if len(inputString.split('.')) == 4:\n",
    "            if all((a >= 0) and (a < 256) for a in map(int,inputString.split('.'))):\n",
    "                return True\n",
    "            else:\n",
    "                return False\n",
    "        else:\n",
    "            return False\n",
    "    else:\n",
    "        return False"
   ]
  },
  {
   "cell_type": "code",
   "execution_count": null,
   "metadata": {
    "collapsed": true
   },
   "outputs": [],
   "source": [
    "#22:\n",
    "def avoidObstacles(inputArray):\n",
    "    m = max(inputArray)\n",
    "    for i in xrange(2,m-1):\n",
    "        if all(a not in inputArray for a in xrange(0,m+1,i)):\n",
    "            return i\n",
    "        else:\n",
    "            continue\n",
    "    return m+1"
   ]
  },
  {
   "cell_type": "code",
   "execution_count": null,
   "metadata": {
    "collapsed": true
   },
   "outputs": [],
   "source": [
    "#23:\n",
    "def avg(image,n,m):\n",
    "    sum = 0\n",
    "    for i in [n-1,n,n+1]:\n",
    "        for j in [m-1,m,m+1]:\n",
    "            sum += image[i][j]\n",
    "    return sum/9\n",
    "\n",
    "def boxBlur(image):\n",
    "    a = len(image)\n",
    "    b = len(image[0])\n",
    "    blurred = []\n",
    "    for i in xrange(1,a-1):\n",
    "        l = []\n",
    "        for j in xrange(1,b-1):\n",
    "            l.append(avg(image,i,j))\n",
    "        blurred.append(l)\n",
    "    return blurred\n",
    "            "
   ]
  },
  {
   "cell_type": "code",
   "execution_count": null,
   "metadata": {
    "collapsed": true
   },
   "outputs": [],
   "source": [
    "#24:\n",
    "def tryscore(i,j,m):\n",
    "    c = 0\n",
    "    try:\n",
    "        c += m[i-1][j-i]\n",
    "        \n",
    "def minesweeper(matrix):\n",
    "    a = len(matrix)\n",
    "    b = len(matrix[0])\n",
    "    newmat = [] "
   ]
  },
  {
   "cell_type": "code",
   "execution_count": null,
   "metadata": {
    "collapsed": true
   },
   "outputs": [],
   "source": [
    "#25:\n",
    "def arrayReplace(inputArray, elemToReplace, substitutionElem):\n",
    "    return [i  if i != elemToReplace else substitutionElem for i in inputArray]"
   ]
  },
  {
   "cell_type": "code",
   "execution_count": null,
   "metadata": {
    "collapsed": true
   },
   "outputs": [],
   "source": [
    "#26:\n",
    "def evenDigitsOnly(n):\n",
    "    return all(i%2 == 0 for i in map(int,str(n)))"
   ]
  },
  {
   "cell_type": "code",
   "execution_count": null,
   "metadata": {
    "collapsed": true
   },
   "outputs": [],
   "source": [
    "#27:\n",
    "import re\n",
    "def variableName(name):\n",
    "    return bool(re.search(r'^[a-zA-Z_][a-zA-Z0-9_]*$',name))"
   ]
  },
  {
   "cell_type": "code",
   "execution_count": null,
   "metadata": {
    "collapsed": true
   },
   "outputs": [],
   "source": [
    "#28:\n",
    "def alphabeticShift(inputString):\n",
    "    return ''.join([chr(ord(i)+1) if i != 'z' else 'a' for i in list(inputString) ])"
   ]
  },
  {
   "cell_type": "code",
   "execution_count": null,
   "metadata": {
    "collapsed": true
   },
   "outputs": [],
   "source": [
    "#29:\n",
    "def chessBoardCellColor(cell1, cell2):\n",
    "    return (ord(cell1[0])+int(cell1[1]))%2 == (ord(cell2[0])+int(cell2[1]))%2"
   ]
  },
  {
   "cell_type": "code",
   "execution_count": null,
   "metadata": {
    "collapsed": true
   },
   "outputs": [],
   "source": [
    "#30:\n",
    "def circleOfNumbers(n, firstNumber):\n",
    "    return (firstNumber+n/2)%n"
   ]
  },
  {
   "cell_type": "code",
   "execution_count": null,
   "metadata": {
    "collapsed": true
   },
   "outputs": [],
   "source": [
    "#31:\n",
    "def depositProfit(deposit, rate, threshold):\n",
    "    c = 0\n",
    "    a = deposit\n",
    "    while a < threshold:\n",
    "        a = a*(float(rate)/100+1)\n",
    "        c += 1\n",
    "    return c"
   ]
  },
  {
   "cell_type": "code",
   "execution_count": null,
   "metadata": {
    "collapsed": true
   },
   "outputs": [],
   "source": [
    "#32:\n",
    "def absoluteValuesSumMinimization(a):\n",
    "    return a[len(a)//2-(len(a)%2==0)]"
   ]
  },
  {
   "cell_type": "code",
   "execution_count": null,
   "metadata": {
    "collapsed": true
   },
   "outputs": [],
   "source": [
    "#33:\n",
    "from itertools import permutations\n",
    "\n",
    "def diff(a,b):\n",
    "    return sum(a[i] != b[i] for i in xrange(len(a)))\n",
    "\n",
    "def offone(a):\n",
    "    return all(diff(a[i],a[i+1]) == 1 for i in xrange(len(a)-1))\n",
    "\n",
    "def stringsRearrangement(inputArray):\n",
    "    p = list(permutations(inputArray))\n",
    "    return any(offone(x) for x in p)"
   ]
  },
  {
   "cell_type": "code",
   "execution_count": null,
   "metadata": {
    "collapsed": true
   },
   "outputs": [],
   "source": [
    "#34:\n",
    "def extractEachKth(inputArray, k):\n",
    "    return [inputArray[i] for i in xrange(len(inputArray)) if (i+1)%k != 0 ]"
   ]
  },
  {
   "cell_type": "code",
   "execution_count": null,
   "metadata": {
    "collapsed": true
   },
   "outputs": [],
   "source": [
    "#35:\n",
    "import re\n",
    "def firstDigit(inputString):\n",
    "    return re.search(r'\\d',inputString).group()"
   ]
  },
  {
   "cell_type": "code",
   "execution_count": null,
   "metadata": {
    "collapsed": true
   },
   "outputs": [],
   "source": [
    "#36:\n",
    "def differentSymbolsNaive(s):\n",
    "    return len(set(s))"
   ]
  },
  {
   "cell_type": "code",
   "execution_count": null,
   "metadata": {
    "collapsed": true
   },
   "outputs": [],
   "source": [
    "#37:\n",
    "def arrayMaxConsecutiveSum(inputArray, k):\n",
    "    s = sum(inputArray[:k])\n",
    "    m = s\n",
    "    for i in xrange(len(inputArray)-k):\n",
    "        s = s-inputArray[i]+inputArray[k+i]\n",
    "        if s > m:\n",
    "            m = s\n",
    "    return m"
   ]
  },
  {
   "cell_type": "code",
   "execution_count": null,
   "metadata": {
    "collapsed": true
   },
   "outputs": [],
   "source": [
    "#38:\n",
    "def growingPlant(upSpeed, downSpeed, desiredHeight):\n",
    "    height = upSpeed\n",
    "    c = 1\n",
    "    grow = upSpeed\n",
    "    shrink = downSpeed\n",
    "    while height < desiredHeight:\n",
    "        height += grow-shrink\n",
    "        c += 1\n",
    "    return c"
   ]
  },
  {
   "cell_type": "code",
   "execution_count": null,
   "metadata": {
    "collapsed": true
   },
   "outputs": [],
   "source": [
    "#39:\n",
    "def knapsackLight(value1, weight1, value2, weight2, maxW):\n",
    "    if min(weight1,weight2) > maxW:\n",
    "        return 0\n",
    "    elif weight1+weight2 <= maxW:\n",
    "        return value1+value2\n",
    "    elif weight1 <= maxW and weight2 > maxW:\n",
    "        return value1\n",
    "    elif weight2 <= maxW and weight1 > maxW:\n",
    "        return value2\n",
    "    else:\n",
    "        return max(value1,value2)"
   ]
  },
  {
   "cell_type": "code",
   "execution_count": null,
   "metadata": {
    "collapsed": true
   },
   "outputs": [],
   "source": [
    "#40:\n",
    "def longestDigitsPrefix(inputString):\n",
    "    return re.search(r'^\\d*', inputString).group()"
   ]
  },
  {
   "cell_type": "code",
   "execution_count": null,
   "metadata": {
    "collapsed": true
   },
   "outputs": [],
   "source": [
    "#41:\n",
    "def digitDegree(n):\n",
    "    c = 0\n",
    "    while len(str(n)) != 1:\n",
    "        c += 1\n",
    "        n = sum(map(int,list(str(n))))\n",
    "        print n\n",
    "    return c"
   ]
  },
  {
   "cell_type": "code",
   "execution_count": null,
   "metadata": {
    "collapsed": true
   },
   "outputs": [],
   "source": [
    "#42:\n",
    "def bishopAndPawn(bishop, pawn):\n",
    "    l = []\n",
    "    c = 0\n",
    "    #ord(a) = 97, ord(h) = 104\n",
    "    start = (ord(bishop[0]),int(bishop[1]))\n",
    "    end = (ord(pawn[0]),int(pawn[1]))\n",
    "    for c in xrange(1,8):\n",
    "        l.append((start[0]-c,start[1]-c))\n",
    "        l.append((start[0]-c,start[1]+c))\n",
    "        l.append((start[0]+c,start[1]-c))\n",
    "        l.append((start[0]+c,start[1]+c))\n",
    "    l2 = [(a,b) for a,b in l if a in xrange(97,105) and b in xrange(1,9)]\n",
    "    return end in l2"
   ]
  },
  {
   "cell_type": "code",
   "execution_count": null,
   "metadata": {
    "collapsed": true
   },
   "outputs": [],
   "source": [
    "#43:\n",
    "def isBeautifulString(inputString):\n",
    "    if len(xrange(97,max(map(ord,inputString))+1)) != len(set(inputString)):\n",
    "        return False\n",
    "    else:\n",
    "        return sorted([inputString.count(i) for i in sorted(set(inputString))], reverse = True) == [inputString.count(i) for i in sorted(set(inputString))]"
   ]
  },
  {
   "cell_type": "code",
   "execution_count": null,
   "metadata": {
    "collapsed": true
   },
   "outputs": [],
   "source": [
    "#44:\n",
    "def findEmailDomain(address):\n",
    "    return re.search(r'@(\\w[\\w.]+)',address).group(1)\n"
   ]
  },
  {
   "cell_type": "code",
   "execution_count": null,
   "metadata": {
    "collapsed": true
   },
   "outputs": [],
   "source": [
    "#45:\n",
    "def palcheck(n):\n",
    "    return n == n[::-1]\n",
    "def buildPalindrome(st):\n",
    "    for i in xrange(len(st)+1):\n",
    "        if palcheck(st+st[:i][::-1]):\n",
    "            return st+st[:i][::-1]"
   ]
  },
  {
   "cell_type": "code",
   "execution_count": null,
   "metadata": {
    "collapsed": true
   },
   "outputs": [],
   "source": [
    "#46:\n",
    "def electionsWinners(votes, k):\n",
    "    M = max(votes)\n",
    "    if k == 0 and votes.count(M) ==1:\n",
    "        return 1\n",
    "    else:\n",
    "        return sum([M-ele < k for ele in votes])"
   ]
  },
  {
   "cell_type": "code",
   "execution_count": null,
   "metadata": {
    "collapsed": true
   },
   "outputs": [],
   "source": [
    "#47:\n",
    "def isMAC48Address(inputString):\n",
    "    return bool(re.search(r'^([0-9A-F]{2}-){5}[A-F0-9]{2}$',inputString))"
   ]
  },
  {
   "cell_type": "code",
   "execution_count": null,
   "metadata": {
    "collapsed": true
   },
   "outputs": [],
   "source": [
    "#48:\n",
    "def isDigit(symbol):\n",
    "    return symbol.isdigit()"
   ]
  },
  {
   "cell_type": "code",
   "execution_count": null,
   "metadata": {
    "collapsed": true
   },
   "outputs": [],
   "source": [
    "#49:\n",
    "from itertools import groupby\n",
    "def lineEncoding(s):\n",
    "    groups = groupby(s)\n",
    "    result = [(label, sum(1 for _ in group)) for label, group in groups]\n",
    "    return ''.join([str(ele[1])+ele[0] if ele[1] != 1 else ele[0] for ele in result])"
   ]
  },
  {
   "cell_type": "code",
   "execution_count": null,
   "metadata": {
    "collapsed": true
   },
   "outputs": [],
   "source": [
    "#50:\n",
    "def chessKnight(cell):\n",
    "    start = (ord(cell[0]),int(cell[1]))\n",
    "    board = [(i,j) for i in xrange(97,105) for j in xrange(1,9)]\n",
    "    return len([ele for ele in board if abs(ele[0]-start[0])+abs(ele[1]-start[1]) == 3  and ele[0] != start[0] and ele[1] != start[1]])"
   ]
  },
  {
   "cell_type": "code",
   "execution_count": null,
   "metadata": {
    "collapsed": true
   },
   "outputs": [],
   "source": [
    "#51:\n",
    "def deleteDigit(n):\n",
    "    a = str(n)\n",
    "    b = [a[:i]+a[i+1:] for i in xrange(len(a))]\n",
    "    return max(map(int,b))"
   ]
  },
  {
   "cell_type": "code",
   "execution_count": null,
   "metadata": {
    "collapsed": true
   },
   "outputs": [],
   "source": [
    "#52:\n",
    "def longestWord(text):\n",
    "    a = max(map(len,re.findall(r'([a-zA-Z]+)', text)))\n",
    "    for ele in re.findall(r'([a-zA-Z]+)', text):\n",
    "        if len(ele) == a:\n",
    "            return ele"
   ]
  },
  {
   "cell_type": "code",
   "execution_count": null,
   "metadata": {
    "collapsed": true
   },
   "outputs": [],
   "source": [
    "#53:\n",
    "def validTime(time):\n",
    "    a = time.split(':')\n",
    "    if int(a[0]) <= 23 and int(a[1]) <= 59 and len(a[0]) == 2 and len(a[1]) == 2:\n",
    "        return True\n",
    "    else:\n",
    "        return False"
   ]
  },
  {
   "cell_type": "code",
   "execution_count": null,
   "metadata": {
    "collapsed": true
   },
   "outputs": [],
   "source": [
    "#54:\n",
    "def sumUpNumbers(inputString):\n",
    "    return sum(map(int,re.findall(r'\\d+',inputString)))"
   ]
  },
  {
   "cell_type": "code",
   "execution_count": null,
   "metadata": {
    "collapsed": true
   },
   "outputs": [],
   "source": [
    "#55:\n",
    "def differentSquares(matrix):\n",
    "    a = len(matrix)\n",
    "    b = len(matrix[0])\n",
    "    l = []\n",
    "    for i in xrange(a-1):\n",
    "        for j in xrange(b-1):\n",
    "            l.append((matrix[i][j],matrix[i][j+1],matrix[i+1][j],matrix[i+1][j+1]))\n",
    "    return len(set(l))"
   ]
  },
  {
   "cell_type": "code",
   "execution_count": null,
   "metadata": {
    "collapsed": true
   },
   "outputs": [],
   "source": [
    "#56:\n",
    "def digitsProduct(product):\n",
    "\n",
    "    answerDigits = []\n",
    "    answer = 0\n",
    "\n",
    "    if product == 0:\n",
    "        return 10\n",
    "\n",
    "    if product == 1:\n",
    "        return 1\n",
    "\n",
    "    for divisor in range(9, 1, -1):\n",
    "        while product % divisor == 0:\n",
    "            product /= divisor\n",
    "            answerDigits.append(divisor)\n",
    "\n",
    "    if product > 1:\n",
    "        return -1\n",
    "\n",
    "\n",
    "    for i in range(len(answerDigits) - 1, -1, -1):\n",
    "        answer = 10 * answer + answerDigits[i]\n",
    "    return answer"
   ]
  },
  {
   "cell_type": "code",
   "execution_count": null,
   "metadata": {
    "collapsed": true
   },
   "outputs": [],
   "source": [
    "#57:\n",
    "def dupnum(x,n):\n",
    "    return x+'('+str(n)+')'\n",
    "\n",
    "def fileNaming(x):\n",
    "    d = {}\n",
    "    l = []\n",
    "    for ele in x:\n",
    "        if ele not in l and ele not in d: #root hasnt been seen and no naming conflict\n",
    "            d[ele] = 1\n",
    "            l.append(ele)\n",
    "        elif ele in l and ele not in d: #root hasnt been seen but naming conflict\n",
    "            d[ele] = 1\n",
    "            l.append(dupnum(ele,1))\n",
    "        else:\n",
    "            while dupnum(ele,d[ele]) in l: #root has been seen before, inc. dictval till unique\n",
    "                d[ele] += 1\n",
    "            l.append(dupnum(ele,d[ele]))\n",
    "    return l"
   ]
  },
  {
   "cell_type": "code",
   "execution_count": null,
   "metadata": {
    "collapsed": true
   },
   "outputs": [],
   "source": [
    "#58:\n",
    "def messageFromBinaryCode(code):\n",
    "    return ''.join(map(lambda(x):chr(int(x,2)),re.findall(r'\\d{8}',code)))"
   ]
  },
  {
   "cell_type": "code",
   "execution_count": null,
   "metadata": {
    "collapsed": true
   },
   "outputs": [],
   "source": [
    "#59:  ######### NOT MY SOLUTION ##############\n",
    "def spiralNumbers(n):\n",
    "    m = [[0] * n for i in range(n)]\n",
    "    dx, dy = [0, 1, 0, -1], [1, 0, -1, 0]\n",
    "    x, y, c = 0, -1, 1\n",
    "    for i in range(n + n - 1):\n",
    "        for j in range((n + n - i) // 2):\n",
    "            x += dx[i % 4]\n",
    "            y += dy[i % 4]\n",
    "            m[x][y] = c\n",
    "            c += 1\n",
    "    return m"
   ]
  },
  {
   "cell_type": "code",
   "execution_count": null,
   "metadata": {
    "collapsed": true
   },
   "outputs": [],
   "source": [
    "#60:\n",
    "def sudoku(grid):\n",
    "    checker = list(set(xrange(1,10)))\n",
    "    rows = all(list(set(i)) == checker for i in grid)\n",
    "    grid2 = zip(*grid)\n",
    "    cols = all(list(set(i)) == checker for i in grid2)\n",
    "    minis = []\n",
    "    for i in xrange(0,7,3):\n",
    "        for j in xrange(0,7,3):\n",
    "            l = []\n",
    "            l.append(grid[i][j:j+3])\n",
    "            l.append(grid[i+1][j:j+3])\n",
    "            l.append(grid[i+2][j:j+3])\n",
    "            minis.append(list(item for sublist in l for item in sublist))\n",
    "    tbt = all(list(set(i)) == checker for i in minis)\n",
    "    return rows and cols and tbt"
   ]
  }
 ],
 "metadata": {
  "anaconda-cloud": {},
  "kernelspec": {
   "display_name": "Python [Root]",
   "language": "python",
   "name": "Python [Root]"
  },
  "language_info": {
   "codemirror_mode": {
    "name": "ipython",
    "version": 2
   },
   "file_extension": ".py",
   "mimetype": "text/x-python",
   "name": "python",
   "nbconvert_exporter": "python",
   "pygments_lexer": "ipython2",
   "version": "2.7.12"
  }
 },
 "nbformat": 4,
 "nbformat_minor": 0
}
